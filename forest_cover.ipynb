{
 "cells": [
  {
   "cell_type": "markdown",
   "metadata": {},
   "source": [
    "# Forest Cover Dataset Analysis\n",
    "[UC Irvine machine Learning Repository - Covertype](https://archive.ics.uci.edu/ml/datasets/covertype)  \n",
    "After downloading `covtype.data`, I renamed it to `forest_cover.csv`."
   ]
  },
  {
   "cell_type": "code",
   "execution_count": null,
   "metadata": {},
   "outputs": [],
   "source": [
    "import pandas as pd\n",
    "import numpy as np\n",
    "import matplotlib.pyplot as plt\n",
    "import seaborn as sns\n",
    "\n",
    "from sklearn.decomposition import PCA\n",
    "from sklearn.manifold import MDS, TSNE\n",
    "from sklearn.preprocessing import MinMaxScaler\n",
    "from sklearn.discriminant_analysis import LinearDiscriminantAnalysis"
   ]
  },
  {
   "cell_type": "code",
   "execution_count": null,
   "metadata": {},
   "outputs": [],
   "source": [
    "columns = [\n",
    "    # Quantitative Features\n",
    "    \"elevation\", # Elevation in meters\n",
    "    \"azimuth\", # Aspect in degrees azimuth\n",
    "    \"slope\", # Slope in degrees\n",
    "    \"horz_water\", # Horizontal distance to nearest surface water features in meters\n",
    "    \"vert_water\", # Vertical distance to nearest surface water features in meters\n",
    "    \"horz_roads\", # Horizontal distance to nearest roadway in meters\n",
    "    \"hillshade_9am\", # Hillshade index at 9am on the Summer Solstice 0-255 index\n",
    "    \"hillshade_noon\", # Hillshade index at noon on the Summer Solstice 0-255 index\n",
    "    \"hillshade_3pm\", # Hillshade index at 3pm on the Summer Solstice 0-255 index\n",
    "    \"horz_fire\", # Horizontal distance to nearest wildfire ignition points in meters\n",
    "\n",
    "    # Qualitative Features\n",
    "    # Wilderness area designation given as 4 binary columns\n",
    "    \"wa1\",\"wa2\",\"wa3\",\"wa4\",\n",
    "    # Soil Type given as 40 binary columns\n",
    "    'st1', 'st2', 'st3', 'st4', 'st5', 'st6', 'st7', 'st8', 'st9', 'st10', 'st11', 'st12', 'st13', 'st14', 'st15',\n",
    "    'st16', 'st17', 'st18', 'st19', 'st20', 'st21', 'st22', 'st23', 'st24', 'st25', 'st26', 'st27', 'st28', 'st29',\n",
    "    'st30', 'st31', 'st32', 'st33', 'st34', 'st35', 'st36', 'st37', 'st38', 'st39', 'st40',\n",
    "\n",
    "    # Classes\n",
    "    \"cover_type\", # Integer 1-7 Cover Type Designation\n",
    "]\n",
    "\n",
    "df = pd.read_csv(\"./forest_cover.csv\", names=columns)\n",
    "df.head()"
   ]
  },
  {
   "cell_type": "code",
   "execution_count": null,
   "metadata": {},
   "outputs": [],
   "source": [
    "feature_cols = columns[:-1]\n",
    "\n",
    "X = df.loc[:, feature_cols]\n",
    "y = df.cover_type"
   ]
  },
  {
   "cell_type": "markdown",
   "metadata": {},
   "source": [
    "## Principal Components Analysis (PCA)\n",
    "Followed example from [scikit-learn.org](https://scikit-learn.org/stable/auto_examples/datasets/plot_iris_dataset.html?highlight=iris)  \n",
    "[sklearn.decomposition.PCA](https://scikit-learn.org/stable/modules/generated/sklearn.decomposition.PCA.html?highlight=pca#sklearn.decomposition.PCA)"
   ]
  },
  {
   "cell_type": "code",
   "execution_count": null,
   "metadata": {},
   "outputs": [],
   "source": [
    "X_reduced = PCA().fit_transform(X)\n",
    "\n",
    "# Build Dataframe with first 2 principal components\n",
    "pca_df = pd.DataFrame()\n",
    "pca_df['PC1'] = X_reduced[:,0]\n",
    "pca_df['PC2'] = X_reduced[:,1]"
   ]
  },
  {
   "cell_type": "code",
   "execution_count": null,
   "metadata": {},
   "outputs": [],
   "source": [
    "# PCA Scatter Plot\n",
    "plt.figure(figsize=[16,12])\n",
    "sns.scatterplot(\n",
    "    x=X_reduced[:,0],\n",
    "    y=X_reduced[:,1],\n",
    "    hue=y,\n",
    "    palette=sns.color_palette(\"hls\", 7),\n",
    "    ).set(title=\"Forest Cover PCA\")\n",
    "plt.show()"
   ]
  },
  {
   "cell_type": "markdown",
   "metadata": {},
   "source": [
    "## Multidimensional Scaling (MDS)\n",
    "Followed example from [towardsdatascience.com](https://towardsdatascience.com/visualize-multidimensional-datasets-with-mds-64d7b4c16eaa)  \n",
    "[sklearn.manifold.MDS](https://scikit-learn.org/stable/modules/generated/sklearn.manifold.MDS.html?highlight=multidimensional%20scaling)"
   ]
  },
  {
   "cell_type": "code",
   "execution_count": null,
   "metadata": {},
   "outputs": [],
   "source": [
    "# Normalize Data\n",
    "scaler = MinMaxScaler()\n",
    "X_scaled = scaler.fit_transform(X)\n",
    "\n",
    "# Generate 2 Dimensional Dataset\n",
    "embedding = MDS(n_components=2, random_state=0)\n",
    "# X_transformed = embedding.fit_transform(X_scaled)"
   ]
  },
  {
   "cell_type": "code",
   "execution_count": null,
   "metadata": {},
   "outputs": [],
   "source": [
    "# MDS Scatter Plot\n",
    "# plt.figure(figsize=[16,12])\n",
    "# sns.scatterplot(\n",
    "#     x=X_transformed[:,0],\n",
    "#     y=X_transformed[:,1],\n",
    "#     hue=y[:100],\n",
    "#     palette=sns.color_palette(\"hls\", 7),\n",
    "#     ).set(title=\"Forest Cover MDS\")\n",
    "# plt.show()"
   ]
  },
  {
   "cell_type": "markdown",
   "metadata": {},
   "source": [
    "## t-Distributed Stochastic Neighbor Embedding (t-SNE)\n",
    "Followed example from [datatechnotes.com](https://www.datatechnotes.com/2020/11/tsne-visualization-example-in-python.html)  \n",
    "[sklearn.manifold.TSNE](https://scikit-learn.org/stable/modules/generated/sklearn.manifold.TSNE.html?highlight=multidimensional%20scaling)"
   ]
  },
  {
   "cell_type": "code",
   "execution_count": null,
   "metadata": {},
   "outputs": [],
   "source": [
    "# Transform data\n",
    "tsne = TSNE(n_components=2, random_state=314159, n_iter=250, n_iter_without_progress=50)\n",
    "X_transformed = tsne.fit_transform(X)"
   ]
  },
  {
   "cell_type": "code",
   "execution_count": null,
   "metadata": {},
   "outputs": [],
   "source": [
    "# t-SNE Scatter Plot\n",
    "plt.figure(figsize=[8,6])\n",
    "sns.scatterplot(\n",
    "    data=df,\n",
    "    x=\"comp-1\",\n",
    "    y=\"comp-2\",\n",
    "    hue=y,\n",
    "    palette=sns.color_palette(\"hls\", 3),\n",
    "    ).set(title=\"Forest Cover MDS\")\n",
    "plt.show()"
   ]
  },
  {
   "cell_type": "markdown",
   "metadata": {},
   "source": [
    "# Linear Discriminant Analysis (LDA)\n",
    "[sklearn.discriminant_analysis.LinearDiscriminantAnalysis](https://scikit-learn.org/stable/modules/generated/sklearn.discriminant_analysis.LinearDiscriminantAnalysis.html#sklearn.discriminant_analysis.LinearDiscriminantAnalysis)"
   ]
  },
  {
   "cell_type": "code",
   "execution_count": null,
   "metadata": {},
   "outputs": [],
   "source": []
  }
 ],
 "metadata": {
  "interpreter": {
   "hash": "a849b0ef3215ecc63f39437139d7bf6fd569374b5cd4dc947b73a3962ee62f02"
  },
  "kernelspec": {
   "display_name": "Python 3.8.10 ('venv': venv)",
   "language": "python",
   "name": "python3"
  },
  "language_info": {
   "codemirror_mode": {
    "name": "ipython",
    "version": 3
   },
   "file_extension": ".py",
   "mimetype": "text/x-python",
   "name": "python",
   "nbconvert_exporter": "python",
   "pygments_lexer": "ipython3",
   "version": "3.8.10"
  },
  "orig_nbformat": 4
 },
 "nbformat": 4,
 "nbformat_minor": 2
}
